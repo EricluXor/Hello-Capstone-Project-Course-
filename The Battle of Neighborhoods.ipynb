{
 "cells": [
  {
   "cell_type": "markdown",
   "metadata": {},
   "source": [
    "### Capstone Project - The Battle of Neighborhoods"
   ]
  },
  {
   "cell_type": "markdown",
   "metadata": {},
   "source": [
    "#### Introduction/Business Problem "
   ]
  },
  {
   "cell_type": "markdown",
   "metadata": {},
   "source": [
    "With the huge amount of data and feedbacks in Foursquare, as well as the geographic information of NYC and Toronto, I am curious about the following questions:\n",
    "\n",
    "1. We all know both NYC and Toronto are big multicultural cities, but is there any difference of taste in the these 2 cities? What are the most favored and least favored styles of food in NYC and Toronto? Are the preferences of food consistent with their race/immigrants (original) nationality compostion?\n",
    "\n",
    "2. As social network apps are more and more popular nowadays, the feedbacks on apps like Foursquare, Yelp, etc are more and more important to restaurants. Higher rating, more comments and more facny photos are great help to promote a restauarant and attract more customers. I would like find out what kind of resturants have the highest ratings, the most comments and the most photos. In addition, I want to find out do more feedbacks (comments and photos) imply extremer (high or low) ratings.\n",
    "\n",
    "3. Cluster the neighborhoods by the amount of feedbacks. Currently, I assume restaurants in businees areas will have less feedbacks. Because people go there either just grab something to eat during breaks or have business dinners, they do not have time/mood to take pictures and leave comments or it's inappropriate to do so in a business dinner. On the other hand, restaurants in leisure/fun/living areas may have more feedbacks, because people usually go there with family and friends and they like taking pictures and commenting on the foods/atomphere under such scenario. I do not live either city and I do not know too much about them, yet I am relatively more familiar with NYC, so I will only study NYC for this item."
   ]
  },
  {
   "cell_type": "markdown",
   "metadata": {},
   "source": [
    "#### Data"
   ]
  },
  {
   "cell_type": "markdown",
   "metadata": {},
   "source": [
    "1. Most of the data are available in Foursquare, but need to write new codes to pull them (i.e. ratings, photos, comments).\n",
    "2. Geographic data is available from previous projects.\n",
    "2. Need to find the race/immigrants (original) nationality compostion for these 2 cities."
   ]
  },
  {
   "cell_type": "code",
   "execution_count": null,
   "metadata": {},
   "outputs": [],
   "source": []
  }
 ],
 "metadata": {
  "kernelspec": {
   "display_name": "Python",
   "language": "python",
   "name": "conda-env-python-py"
  },
  "language_info": {
   "codemirror_mode": {
    "name": "ipython",
    "version": 3
   },
   "file_extension": ".py",
   "mimetype": "text/x-python",
   "name": "python",
   "nbconvert_exporter": "python",
   "pygments_lexer": "ipython3",
   "version": "3.6.12"
  }
 },
 "nbformat": 4,
 "nbformat_minor": 4
}
